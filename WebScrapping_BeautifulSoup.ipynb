{
 "cells": [
  {
   "cell_type": "markdown",
   "id": "82e35b20",
   "metadata": {},
   "source": [
    "# web scrapping using Beautiful soup"
   ]
  },
  {
   "cell_type": "code",
   "execution_count": 10,
   "id": "6ed1f04f",
   "metadata": {},
   "outputs": [],
   "source": [
    "import requests\n",
    "from bs4 import BeautifulSoup\n",
    "import csv\n",
    "from itertools import zip_longest\n"
   ]
  },
  {
   "cell_type": "code",
   "execution_count": 11,
   "id": "44c351f3",
   "metadata": {},
   "outputs": [],
   "source": [
    "result=requests.get(\"https://wuzzuf.net/search/jobs/?q=python&a=hpb\")"
   ]
  },
  {
   "cell_type": "code",
   "execution_count": 12,
   "id": "21e1c4be",
   "metadata": {},
   "outputs": [],
   "source": [
    "src=result.content"
   ]
  },
  {
   "cell_type": "code",
   "execution_count": null,
   "id": "1dfa3d2d",
   "metadata": {},
   "outputs": [],
   "source": []
  },
  {
   "cell_type": "code",
   "execution_count": 13,
   "id": "3e65b40f",
   "metadata": {},
   "outputs": [],
   "source": [
    "soup=BeautifulSoup(src,\"lxml\")\n",
    "\n",
    "JobTitles=soup.find_all(\"h2\",{\"class\":\"css-m604qf\"})\n",
    "company_names=soup.find_all(\"a\",{\"class\",\"css-17s97q8\"})\n",
    "locations=soup.find_all(\"span\",{\"class\",\"css-5wys0k\"})\n",
    "Job_skills=soup.find_all(\"div\",{\"class\":\"css-y4udm8\"})\n"
   ]
  },
  {
   "cell_type": "code",
   "execution_count": null,
   "id": "0cc4f122",
   "metadata": {},
   "outputs": [],
   "source": [
    "jobtitle=[]\n",
    "companyname=[]\n",
    "location=[]\n",
    "jobskills=[]\n",
    "skills=[]\n",
    "links=[]\n",
    "for i in range(len(JobTitles)):\n",
    "    jobtitle.append(JobTitles[i].text)\n",
    "    companyname.append(company_names[i].text)\n",
    "    location.append(locations[i].text)\n",
    "    jobskills.append(Job_skills[i].text)\n",
    "    links.append(JobTitles[i].find(\"a\").attrs[\"href\"])\n",
    "    \n",
    "lst=[]\n",
    "for link in links:\n",
    "    result1=requests.get(link)\n",
    "    content1=result1.content\n",
    "    soup1=BeautifulSoup(content1,\"lxml\")\n",
    "    \n",
    "    salary=soup1.find_all(\"span\",{\"class\":\"css-47jx3m\"})\n",
    "    print(salary)\n",
    "    lst.append(salary)\n",
    "    "
   ]
  },
  {
   "cell_type": "code",
   "execution_count": null,
   "id": "aa1f482a",
   "metadata": {},
   "outputs": [],
   "source": [
    "filelist=[jobtitle,companyname,location,jobskills,links]\n",
    "exported=zip_longest(*filelist)\n",
    "with open(\"E:\\\\wazzuf.csv\",\"w\") as myfile:\n",
    "    \n",
    "    wr=csv.writer(myfile)\n",
    "    wr.writerow([\"job title\",\"company name\",\"location\",\"job skills\",\"links\"])\n",
    "    wr.writerows(exported)"
   ]
  },
  {
   "cell_type": "markdown",
   "id": "2d29ef33",
   "metadata": {},
   "source": [
    "# web scrapping using selinum"
   ]
  },
  {
   "cell_type": "code",
   "execution_count": null,
   "id": "6c9c2486",
   "metadata": {},
   "outputs": [],
   "source": []
  }
 ],
 "metadata": {
  "kernelspec": {
   "display_name": "Python 3",
   "language": "python",
   "name": "python3"
  },
  "language_info": {
   "codemirror_mode": {
    "name": "ipython",
    "version": 3
   },
   "file_extension": ".py",
   "mimetype": "text/x-python",
   "name": "python",
   "nbconvert_exporter": "python",
   "pygments_lexer": "ipython3",
   "version": "3.8.8"
  }
 },
 "nbformat": 4,
 "nbformat_minor": 5
}
